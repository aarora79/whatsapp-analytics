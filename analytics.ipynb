{
 "cells": [
  {
   "cell_type": "markdown",
   "metadata": {},
   "source": [
    "# Data Analytics from a WhatsApp Group chat"
   ]
  },
  {
   "cell_type": "markdown",
   "metadata": {},
   "source": [
    "This notebook analysis the whatsapp chat from a group of close friends. The purpose is to do basic data analytics such as what is the frequency of messages, who is most active when, but then if interest develops then can also explore advanced NLP topics."
   ]
  },
  {
   "cell_type": "markdown",
   "metadata": {},
   "source": [
    "## Setup up imports"
   ]
  },
  {
   "cell_type": "code",
   "execution_count": null,
   "metadata": {},
   "outputs": [],
   "source": [
    "library(glue)\n",
    "library(dplyr)\n",
    "library(tidyr)\n",
    "library(purrr)\n",
    "library(ggplot2)\n",
    "library(GGally)\n",
    "library(ggthemes)\n",
    "library(tidyverse)\n",
    "library(lubridate)\n",
    "library(tidytext)\n",
    "set.seed(1234)\n",
    "library(wordcloud)\n",
    "#remotes::install_github(\"hadley/emo\")\n",
    "library(\"tidyr\")\n",
    "library(emo)"
   ]
  },
  {
   "cell_type": "markdown",
   "metadata": {},
   "source": [
    "## Global constants"
   ]
  },
  {
   "cell_type": "code",
   "execution_count": null,
   "metadata": {},
   "outputs": [],
   "source": [
    "RAW_DATA <- \"preprocessed_raw_data2.txt\" #preprocessed__chat2.txt\n",
    "GUESS_MAX <- 20000\n",
    "GROUP_NAME <- \"Sample Group\"\n",
    "TIMESTAMP_FORMAT <- \"MDY_HM\" #\"DMY_HMS\" # or MDY_HM\n",
    "TZ <- \"America/New_York\" #\"Asia/Kolkata\" # \"America/New_York\""
   ]
  },
  {
   "cell_type": "markdown",
   "metadata": {},
   "source": [
    "## Data Wrangling"
   ]
  },
  {
   "cell_type": "code",
   "execution_count": null,
   "metadata": {
    "scrolled": true
   },
   "outputs": [],
   "source": [
    "# read the raw data\n",
    "chat <- readr::read_csv(RAW_DATA, guess_max=GUESS_MAX)"
   ]
  },
  {
   "cell_type": "code",
   "execution_count": null,
   "metadata": {},
   "outputs": [],
   "source": [
    "head(chat, 10)"
   ]
  },
  {
   "cell_type": "code",
   "execution_count": null,
   "metadata": {},
   "outputs": [],
   "source": [
    "if (TIMESTAMP_FORMAT == \"DMY_HMS\") {\n",
    "    chat <- chat %>%\n",
    "      mutate(date = dmy(date), timestamp = dmy_hms(timestamp, tz=TZ))\n",
    "} else if (TIMESTAMP_FORMAT == \"MDY_HM\")  {\n",
    "    chat <- chat %>%\n",
    "      mutate(date = mdy(date), timestamp = mdy_hm(timestamp, tz=TZ))   \n",
    "} else {\n",
    "    print(\"timestamp format needs to be set!!!\")\n",
    "}\n",
    "\n",
    "head(chat)"
   ]
  },
  {
   "cell_type": "markdown",
   "metadata": {},
   "source": [
    "## Lets Explore "
   ]
  },
  {
   "cell_type": "code",
   "execution_count": null,
   "metadata": {},
   "outputs": [],
   "source": [
    "options(repr.plot.width=15, repr.plot.height=8)\n",
    "chat %>% \n",
    "  count(sender, sort=TRUE) %>%\n",
    "  ggplot(aes(x=reorder(sender, -n), y=n, fill=sender)) +\n",
    "  geom_bar(position=\"dodge\", stat=\"identity\") +\n",
    "  theme_fivethirtyeight() +\n",
    "  xlab(\"\") + \n",
    "  labs(title=glue(\"Who sends the most messages in the \\\"{GROUP_NAME}\\\" group?\"),\n",
    "       subtitle=glue(\"Total number of messages sent by each person, Timespan: {min(chat$date)} to {max(chat$date)}\"),\n",
    "       caption=\"Source: WhatsApp message export\") +\n",
    "  theme(text = element_text(size=15), legend.position = \"none\") +\n",
    "  scale_color_tableau()"
   ]
  },
  {
   "cell_type": "markdown",
   "metadata": {},
   "source": [
    "### Frequency of messages per day"
   ]
  },
  {
   "cell_type": "code",
   "execution_count": null,
   "metadata": {},
   "outputs": [],
   "source": [
    "options(repr.plot.width=15, repr.plot.height=8)\n",
    "\n",
    "p <- chat %>%\n",
    "  count(date) %>%\n",
    "  ggplot(aes(x=date, y=n)) +\n",
    "  geom_point() + \n",
    "  stat_smooth(method = \"loess\", formula = y ~ x, size = 1) + \n",
    "  theme_fivethirtyeight() +\n",
    "  xlab(\"\") + \n",
    "  ylab(\"Messages/day\") + \n",
    "  labs(title=glue(\"Message activity on the \\\"{GROUP_NAME}\\\" group\"),\n",
    "       subtitle=glue(\"Messages/day, Timespan: {min(chat$date)} to {max(chat$date)}\"),\n",
    "       caption=\"Source: WhatsApp message export\") +\n",
    "  theme(text = element_text(size=15))\n",
    "\n",
    "\n",
    "p"
   ]
  },
  {
   "cell_type": "code",
   "execution_count": null,
   "metadata": {},
   "outputs": [],
   "source": [
    "options(repr.plot.width=15, repr.plot.height=8)\n",
    "\n",
    "p <- chat %>%\n",
    "  count(sender, date) %>%\n",
    "  ggplot(aes(x=date, y=n, col=sender)) +\n",
    "  geom_line() +\n",
    "  facet_wrap(~sender) +\n",
    "  theme_fivethirtyeight() + \n",
    "  xlab(\"\") + \n",
    "  ylab(\"Messages/day\") + \n",
    "  labs(title=glue(\"Message activity on the \\\"{GROUP_NAME}\\\" group\"),\n",
    "       subtitle=glue(\"Messages/day, Timespan: {min(chat$date)} to {max(chat$date)}\"),\n",
    "       caption=\"Source: WhatsApp message export\") +\n",
    "  theme(text = element_text(size=15), legend.position = \"none\") + \n",
    "  scale_color_tableau()\n",
    "p"
   ]
  },
  {
   "cell_type": "code",
   "execution_count": null,
   "metadata": {},
   "outputs": [],
   "source": [
    "options(repr.plot.width=20, repr.plot.height=10)\n",
    "\n",
    "p <- chat %>%\n",
    "  mutate(day_of_the_week=wday(date, label=TRUE)) %>%\n",
    "  count(day_of_the_week, sender) %>%\n",
    "  ggplot(aes(x=day_of_the_week, y=n, fill=sender)) +\n",
    "  geom_bar(position=\"dodge\", stat=\"identity\") +\n",
    "  theme_fivethirtyeight() +\n",
    "  xlab(\"\") + \n",
    "  ylab(\"Messages/day\") + \n",
    "  labs(title=glue(\"Message activity on the \\\"{GROUP_NAME}\\\" group\"),\n",
    "       subtitle=glue(\"Total messages by the day, Timespan: {min(chat$date)} to {max(chat$date)}\"),\n",
    "       caption=\"Source: WhatsApp message export\") +\n",
    "  theme(text = element_text(size=15), legend.position = \"none\") + \n",
    "  facet_wrap(~sender) +\n",
    "  scale_color_tableau()\n",
    "p"
   ]
  },
  {
   "cell_type": "code",
   "execution_count": null,
   "metadata": {},
   "outputs": [],
   "source": [
    "options(repr.plot.width=15, repr.plot.height=8)\n",
    "\n",
    "p <- chat %>%\n",
    "  mutate(hour=hour(timestamp)) %>%\n",
    "  count(hour, sender) %>%\n",
    "  ggplot(aes(x=hour, y=n, fill=sender)) +\n",
    "  geom_bar(position=\"dodge\", stat=\"identity\") +\n",
    "  theme_fivethirtyeight() +\n",
    "  xlab(\"\") + \n",
    "  ylab(\"Messages/hour\") + \n",
    "  labs(title=glue(\"Message activity on the \\\"{GROUP_NAME}\\\" group\"),\n",
    "       subtitle=glue(\"Total messages by the hour, Timespan: {min(chat$date)} to {max(chat$date)}\"),\n",
    "       caption=\"Source: WhatsApp message export\") +\n",
    "  theme(text = element_text(size=15), legend.position = \"none\") + \n",
    "  facet_wrap(~sender) +\n",
    "  scale_color_tableau()\n",
    "p"
   ]
  },
  {
   "cell_type": "code",
   "execution_count": null,
   "metadata": {},
   "outputs": [],
   "source": [
    "#options(repr.plot.width=10, repr.plot.height=8)\n",
    "chat_mv_timeseries <- chat %>%\n",
    "  mutate(hour=round_date(timestamp, unit=\"hour\")) %>%\n",
    "  count(hour, sender) %>%\n",
    "  spread(sender, n) %>%\n",
    "  replace(is.na(.), 0) %>%\n",
    "  select(-hour)\n",
    "\n",
    "p <- ggcorr(chat_mv_timeseries, method = c(\"everything\", \"pearson\"), label=TRUE) +\n",
    "  theme_fivethirtyeight() +\n",
    "  labs(title=glue(\"Correlation in the \\\"{GROUP_NAME}\\\" group\"),\n",
    "       subtitle=glue(\"Correlation in messages per hour, Timespan: {min(chat$date)} to {max(chat$date)}\"),\n",
    "       caption=\"Source: WhatsApp message export\") +\n",
    "  theme(text = element_text(size=15), legend.position = \"none\") +\n",
    "  scale_color_tableau()\n",
    "p\n"
   ]
  },
  {
   "cell_type": "code",
   "execution_count": null,
   "metadata": {},
   "outputs": [],
   "source": [
    "options(repr.plot.width=15, repr.plot.height=8)\n",
    "chat_message_len <- chat %>%\n",
    "  mutate(sender = str_trim(sender)) %>%\n",
    "  rowwise() %>%\n",
    "  mutate(num_of_words = length(str_split(message, \" \", simplify = TRUE))) %>%\n",
    "  select(sender, num_of_words) %>%\n",
    "  group_by(sender) %>%\n",
    "  summarize(num_of_words = quantile(num_of_words, 0.5)) %>%\n",
    "  ungroup()\n",
    "\n",
    "chat_message_len %>%\n",
    "  ggplot(aes(x=reorder(sender, num_of_words), y=num_of_words, fill=sender)) +\n",
    "  geom_bar(position=\"dodge\", stat=\"identity\") +\n",
    "  theme_fivethirtyeight() +\n",
    "  xlab(\"\") + \n",
    "  ylab(\"Messages/hour\") + \n",
    "  labs(title=glue(\"How long is a usual message on the \\\"{GROUP_NAME}\\\" group?\"),\n",
    "       subtitle=glue(\"Median number of words in each person's messages, Timespan: {min(chat$date)} to {max(chat$date)}\"),\n",
    "       caption=\"Source: WhatsApp message export\") +\n",
    "  theme(text = element_text(size=15), legend.position = \"none\") +\n",
    "  scale_color_tableau()\n"
   ]
  },
  {
   "cell_type": "code",
   "execution_count": null,
   "metadata": {},
   "outputs": [],
   "source": [
    "options(repr.plot.width=15, repr.plot.height=15)\n",
    "tidy_chat <- chat %>%\n",
    "  select(message) %>%\n",
    "  unnest_tokens(word, message) %>%\n",
    "  group_by(word) %>%\n",
    "  ungroup()\n",
    "\n",
    "tidy_chat %>%\n",
    "  count(word, sort=T) %>%\n",
    "  filter(!(word %in% c(\"media\", \"omitted\"))) %>%\n",
    "  anti_join(get_stopwords()) %>%\n",
    "  top_n(20) %>%\n",
    "  ungroup() %>%\n",
    "  ggplot(aes(x=reorder(word, n), y=n,\n",
    "    fill = I(\"lightblue\")\n",
    "  )) +\n",
    "  geom_col(alpha = 0.8, show.legend = FALSE) +\n",
    "  coord_flip() +\n",
    "\n",
    "  scale_y_continuous(expand = c(0, 0)) +\n",
    "  labs(\n",
    "    x = NULL, y = \"Word count\",\n",
    "    title = \"Most frequent words after removing stop words\",\n",
    "    subtitle = glue(\"Median number of words in each person's messages, Timespan: {min(chat$date)} to {max(chat$date)}\"),\n",
    "      caption=\"Source: WhatsApp message export\"\n",
    "  ) + \n",
    "theme_fivethirtyeight() +\n",
    "  theme(text = element_text(size=15), legend.position = \"none\") +\n",
    "  scale_color_tableau()"
   ]
  },
  {
   "cell_type": "code",
   "execution_count": null,
   "metadata": {},
   "outputs": [],
   "source": [
    "chat %>%\n",
    "  select(message) %>%\n",
    "  unnest_tokens(bigram, message, token = \"ngrams\", n = 2) %>%\n",
    "  filter(!str_detect(bigram, \"omitted\") & !str_detect(bigram, \"deleted\") & !str_detect(bigram, \"message\")) %>%\n",
    "  count(bigram, sort=TRUE)\n"
   ]
  },
  {
   "cell_type": "code",
   "execution_count": null,
   "metadata": {},
   "outputs": [],
   "source": [
    "\n",
    "word_counts <- tidy_chat %>%\n",
    "  count(word, sort=T) %>%\n",
    "  filter(!(word %in% c(\"media\", \"omitted\"))) %>%\n",
    "  anti_join(get_stopwords()) %>%\n",
    "  top_n(50) %>%\n",
    "  ungroup()\n",
    "\n",
    "wordcloud(words = word_counts$word, freq = word_counts$n, min.freq = 1,\n",
    "          max.words=200, random.order=FALSE, rot.per=0.35, \n",
    "          colors=brewer.pal(8, \"Dark2\"))\n"
   ]
  },
  {
   "cell_type": "code",
   "execution_count": null,
   "metadata": {},
   "outputs": [],
   "source": [
    "options(repr.plot.width=15, repr.plot.height=10)\n",
    "\n",
    "chat %>%\n",
    "  select(sender, emojis) %>%\n",
    "  filter(!is.na(emojis)) %>%\n",
    "  unnest(emojis = strsplit(emojis, \",\"))  %>%\n",
    "  count(sender, emojis, sort=TRUE) %>%\n",
    "  group_by(sender) %>%\n",
    "  top_n(5) %>%\n",
    "  arrange(sender) %>%\n",
    "  #filter(sender == \"Person8\") %>%\n",
    "  #mutate(emojis=emoji(emojis)) %>%\n",
    "  ggplot(aes(x = reorder(emojis, -n), y = n, fill = sender, family = 'EmojiOne')) +\n",
    "  geom_col(show.legend = FALSE) +\n",
    "  ylab(\"\") +\n",
    "  xlab(\"\") +\n",
    "  coord_flip() +\n",
    "  facet_wrap(~sender, ncol = 2, scales = \"free_y\")  +\n",
    "  ggtitle(\"Most often used emojis\") + \n",
    "  theme_fivethirtyeight() +\n",
    "  theme(text = element_text(size=15), legend.position = \"none\") +\n",
    "  scale_color_tableau()"
   ]
  },
  {
   "cell_type": "code",
   "execution_count": null,
   "metadata": {},
   "outputs": [],
   "source": [
    "chat %>%\n",
    "  select(sender, emojis) %>%\n",
    "  filter(!is.na(emojis)) %>%\n",
    "  unnest(emojis = strsplit(emojis, \",\"))  %>%\n",
    "  count(sender, emojis, sort=TRUE) %>%\n",
    "  group_by(sender) %>%\n",
    "  top_n(5) %>%\n",
    "  arrange(sender)"
   ]
  },
  {
   "cell_type": "code",
   "execution_count": null,
   "metadata": {},
   "outputs": [],
   "source": [
    "chat %>%\n",
    "  select(sender, emojis) %>%\n",
    "  filter(!is.na(emojis)) %>%\n",
    "  unnest(emojis = strsplit(emojis, \",\"))  %>%\n",
    "  count(emojis, sort=TRUE) %>%\n",
    "  top_n(5)"
   ]
  },
  {
   "cell_type": "code",
   "execution_count": null,
   "metadata": {},
   "outputs": [],
   "source": []
  }
 ],
 "metadata": {
  "kernelspec": {
   "display_name": "R",
   "language": "R",
   "name": "ir"
  },
  "language_info": {
   "codemirror_mode": "r",
   "file_extension": ".r",
   "mimetype": "text/x-r-source",
   "name": "R",
   "pygments_lexer": "r",
   "version": "3.6.3"
  }
 },
 "nbformat": 4,
 "nbformat_minor": 4
}
